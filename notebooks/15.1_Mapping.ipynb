version https://git-lfs.github.com/spec/v1
oid sha256:89f70f9c86bc08069afbf78a8ae0ee7bfe98440554f6f02614ac13973018e294
size 17868
