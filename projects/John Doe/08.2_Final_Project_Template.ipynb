version https://git-lfs.github.com/spec/v1
oid sha256:dbf721fe5f53a62cb925b871badee768bad6273527e966595948924bbf0e551b
size 3802
